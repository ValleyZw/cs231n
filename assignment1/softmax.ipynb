{
 "cells": [
  {
   "cell_type": "markdown",
   "metadata": {
    "tags": [
     "pdf-title"
    ]
   },
   "source": [
    "# Softmax exercise\n",
    "\n",
    "*Complete and hand in this completed worksheet (including its outputs and any supporting code outside of the worksheet) with your assignment submission. For more details see the [assignments page](http://vision.stanford.edu/teaching/cs231n/assignments.html) on the course website.*\n",
    "\n",
    "This exercise is analogous to the SVM exercise. You will:\n",
    "\n",
    "- implement a fully-vectorized **loss function** for the Softmax classifier\n",
    "- implement the fully-vectorized expression for its **analytic gradient**\n",
    "- **check your implementation** with numerical gradient\n",
    "- use a validation set to **tune the learning rate and regularization** strength\n",
    "- **optimize** the loss function with **SGD**\n",
    "- **visualize** the final learned weights\n"
   ]
  },
  {
   "cell_type": "code",
   "execution_count": 1,
   "metadata": {
    "tags": [
     "pdf-ignore"
    ]
   },
   "outputs": [],
   "source": [
    "import random\n",
    "import numpy as np\n",
    "from cs231n.data_utils import load_CIFAR10\n",
    "import matplotlib.pyplot as plt\n",
    "\n",
    "%matplotlib inline\n",
    "plt.rcParams['figure.figsize'] = (10.0, 8.0) # set default size of plots\n",
    "plt.rcParams['image.interpolation'] = 'nearest'\n",
    "plt.rcParams['image.cmap'] = 'gray'\n",
    "\n",
    "# for auto-reloading extenrnal modules\n",
    "# see http://stackoverflow.com/questions/1907993/autoreload-of-modules-in-ipython\n",
    "%load_ext autoreload\n",
    "%autoreload 2"
   ]
  },
  {
   "cell_type": "code",
   "execution_count": 2,
   "metadata": {
    "tags": [
     "pdf-ignore"
    ]
   },
   "outputs": [
    {
     "name": "stdout",
     "output_type": "stream",
     "text": [
      "Train data shape:  (49000, 3073)\n",
      "Train labels shape:  (49000,)\n",
      "Validation data shape:  (1000, 3073)\n",
      "Validation labels shape:  (1000,)\n",
      "Test data shape:  (1000, 3073)\n",
      "Test labels shape:  (1000,)\n",
      "dev data shape:  (500, 3073)\n",
      "dev labels shape:  (500,)\n"
     ]
    }
   ],
   "source": [
    "def get_CIFAR10_data(num_training=49000, num_validation=1000, num_test=1000, num_dev=500):\n",
    "    \"\"\"\n",
    "    Load the CIFAR-10 dataset from disk and perform preprocessing to prepare\n",
    "    it for the linear classifier. These are the same steps as we used for the\n",
    "    SVM, but condensed to a single function.  \n",
    "    \"\"\"\n",
    "    # Load the raw CIFAR-10 data\n",
    "    cifar10_dir = 'cs231n/datasets/cifar-10-batches-py'\n",
    "    \n",
    "    # Cleaning up variables to prevent loading data multiple times (which may cause memory issue)\n",
    "    try:\n",
    "       del X_train, y_train\n",
    "       del X_test, y_test\n",
    "       print('Clear previously loaded data.')\n",
    "    except:\n",
    "       pass\n",
    "\n",
    "    X_train, y_train, X_test, y_test = load_CIFAR10(cifar10_dir)\n",
    "    \n",
    "    # subsample the data\n",
    "    mask = list(range(num_training, num_training + num_validation))\n",
    "    X_val = X_train[mask]\n",
    "    y_val = y_train[mask]\n",
    "    mask = list(range(num_training))\n",
    "    X_train = X_train[mask]\n",
    "    y_train = y_train[mask]\n",
    "    mask = list(range(num_test))\n",
    "    X_test = X_test[mask]\n",
    "    y_test = y_test[mask]\n",
    "    mask = np.random.choice(num_training, num_dev, replace=False)\n",
    "    X_dev = X_train[mask]\n",
    "    y_dev = y_train[mask]\n",
    "    \n",
    "    # Preprocessing: reshape the image data into rows\n",
    "    X_train = np.reshape(X_train, (X_train.shape[0], -1))\n",
    "    X_val = np.reshape(X_val, (X_val.shape[0], -1))\n",
    "    X_test = np.reshape(X_test, (X_test.shape[0], -1))\n",
    "    X_dev = np.reshape(X_dev, (X_dev.shape[0], -1))\n",
    "    \n",
    "    # Normalize the data: subtract the mean image\n",
    "    mean_image = np.mean(X_train, axis = 0)\n",
    "    X_train -= mean_image\n",
    "    X_val -= mean_image\n",
    "    X_test -= mean_image\n",
    "    X_dev -= mean_image\n",
    "    \n",
    "    # add bias dimension and transform into columns\n",
    "    X_train = np.hstack([X_train, np.ones((X_train.shape[0], 1))])\n",
    "    X_val = np.hstack([X_val, np.ones((X_val.shape[0], 1))])\n",
    "    X_test = np.hstack([X_test, np.ones((X_test.shape[0], 1))])\n",
    "    X_dev = np.hstack([X_dev, np.ones((X_dev.shape[0], 1))])\n",
    "    \n",
    "    return X_train, y_train, X_val, y_val, X_test, y_test, X_dev, y_dev\n",
    "\n",
    "\n",
    "# Invoke the above function to get our data.\n",
    "X_train, y_train, X_val, y_val, X_test, y_test, X_dev, y_dev = get_CIFAR10_data()\n",
    "print('Train data shape: ', X_train.shape)\n",
    "print('Train labels shape: ', y_train.shape)\n",
    "print('Validation data shape: ', X_val.shape)\n",
    "print('Validation labels shape: ', y_val.shape)\n",
    "print('Test data shape: ', X_test.shape)\n",
    "print('Test labels shape: ', y_test.shape)\n",
    "print('dev data shape: ', X_dev.shape)\n",
    "print('dev labels shape: ', y_dev.shape)"
   ]
  },
  {
   "cell_type": "markdown",
   "metadata": {},
   "source": [
    "## Softmax Classifier\n",
    "\n",
    "Your code for this section will all be written inside **cs231n/classifiers/softmax.py**. \n"
   ]
  },
  {
   "cell_type": "code",
   "execution_count": 9,
   "metadata": {},
   "outputs": [
    {
     "name": "stdout",
     "output_type": "stream",
     "text": [
      "loss: 2.367269\n",
      "sanity check: 2.302585\n"
     ]
    }
   ],
   "source": [
    "# First implement the naive softmax loss function with nested loops.\n",
    "# Open the file cs231n/classifiers/softmax.py and implement the\n",
    "# softmax_loss_naive function.\n",
    "\n",
    "from cs231n.classifiers.softmax import softmax_loss_naive\n",
    "import time\n",
    "\n",
    "# Generate a random softmax weight matrix and use it to compute the loss.\n",
    "W = np.random.randn(3073, 10) * 0.0001\n",
    "loss, grad = softmax_loss_naive(W, X_dev, y_dev, 0.0)\n",
    "\n",
    "# As a rough sanity check, our loss should be something close to -log(0.1).\n",
    "print('loss: %f' % loss)\n",
    "print('sanity check: %f' % (-np.log(0.1)))"
   ]
  },
  {
   "cell_type": "markdown",
   "metadata": {
    "tags": [
     "pdf-inline"
    ]
   },
   "source": [
    "**Inline Question 1**\n",
    "\n",
    "Why do we expect our loss to be close to -log(0.1)? Explain briefly.**\n",
    "\n",
    "$\\color{blue}{\\textit Your Answer:}$ *Fill this in* \n",
    "\n",
    "Beacuse the weights are initilized approximate to zeros, $\\exp^{WX}=1$, $L=-\\log(\\exp^{WX}/\\sum_{i}^{10}\\exp^{WX})=-\\log(0.1)$"
   ]
  },
  {
   "cell_type": "code",
   "execution_count": 10,
   "metadata": {},
   "outputs": [
    {
     "name": "stdout",
     "output_type": "stream",
     "text": [
      "numerical: -0.302276 analytic: -0.302276, relative error: 9.682948e-08\n",
      "numerical: 1.259820 analytic: 1.259820, relative error: 3.098950e-08\n",
      "numerical: 2.561942 analytic: 2.561942, relative error: 1.300807e-08\n",
      "numerical: 3.010024 analytic: 3.010024, relative error: 2.606805e-08\n",
      "numerical: 1.491718 analytic: 1.491717, relative error: 5.621809e-08\n",
      "numerical: -1.037387 analytic: -1.037387, relative error: 7.043492e-10\n",
      "numerical: -0.272989 analytic: -0.272989, relative error: 1.129880e-07\n",
      "numerical: -1.690171 analytic: -1.690171, relative error: 5.469742e-10\n",
      "numerical: -1.767946 analytic: -1.767946, relative error: 2.299233e-08\n",
      "numerical: -2.359573 analytic: -2.359573, relative error: 9.355299e-09\n",
      "numerical: 2.524085 analytic: 2.524085, relative error: 2.408469e-09\n",
      "numerical: 2.080945 analytic: 2.080945, relative error: 9.350079e-09\n",
      "numerical: 3.308567 analytic: 3.308566, relative error: 2.277491e-08\n",
      "numerical: 1.316022 analytic: 1.316022, relative error: 6.830476e-08\n",
      "numerical: -1.172999 analytic: -1.172999, relative error: 1.693834e-08\n",
      "numerical: -0.359678 analytic: -0.359678, relative error: 9.793953e-08\n",
      "numerical: -0.811931 analytic: -0.811931, relative error: 1.537487e-08\n",
      "numerical: -0.755487 analytic: -0.755487, relative error: 8.317270e-09\n",
      "numerical: -2.840871 analytic: -2.840871, relative error: 1.929273e-08\n",
      "numerical: 0.153563 analytic: 0.153563, relative error: 1.318980e-07\n"
     ]
    }
   ],
   "source": [
    "# Complete the implementation of softmax_loss_naive and implement a (naive)\n",
    "# version of the gradient that uses nested loops.\n",
    "loss, grad = softmax_loss_naive(W, X_dev, y_dev, 0.0)\n",
    "\n",
    "# As we did for the SVM, use numeric gradient checking as a debugging tool.\n",
    "# The numeric gradient should be close to the analytic gradient.\n",
    "from cs231n.gradient_check import grad_check_sparse\n",
    "f = lambda w: softmax_loss_naive(w, X_dev, y_dev, 0.0)[0]\n",
    "grad_numerical = grad_check_sparse(f, W, grad, 10)\n",
    "\n",
    "# similar to SVM case, do another gradient check with regularization\n",
    "loss, grad = softmax_loss_naive(W, X_dev, y_dev, 5e1)\n",
    "f = lambda w: softmax_loss_naive(w, X_dev, y_dev, 5e1)[0]\n",
    "grad_numerical = grad_check_sparse(f, W, grad, 10)"
   ]
  },
  {
   "cell_type": "code",
   "execution_count": 13,
   "metadata": {},
   "outputs": [
    {
     "name": "stdout",
     "output_type": "stream",
     "text": [
      "naive loss: 2.367269e+00 computed in 0.098306s\n",
      "vectorized loss: 2.367269e+00 computed in 0.004264s\n",
      "Loss difference: 0.000000\n",
      "Gradient difference: 0.000000\n"
     ]
    }
   ],
   "source": [
    "# Now that we have a naive implementation of the softmax loss function and its gradient,\n",
    "# implement a vectorized version in softmax_loss_vectorized.\n",
    "# The two versions should compute the same results, but the vectorized version should be\n",
    "# much faster.\n",
    "tic = time.time()\n",
    "loss_naive, grad_naive = softmax_loss_naive(W, X_dev, y_dev, 0.000005)\n",
    "toc = time.time()\n",
    "print('naive loss: %e computed in %fs' % (loss_naive, toc - tic))\n",
    "\n",
    "from cs231n.classifiers.softmax import softmax_loss_vectorized\n",
    "tic = time.time()\n",
    "loss_vectorized, grad_vectorized = softmax_loss_vectorized(W, X_dev, y_dev, 0.000005)\n",
    "toc = time.time()\n",
    "print('vectorized loss: %e computed in %fs' % (loss_vectorized, toc - tic))\n",
    "\n",
    "# As we did for the SVM, we use the Frobenius norm to compare the two versions\n",
    "# of the gradient.\n",
    "grad_difference = np.linalg.norm(grad_naive - grad_vectorized, ord='fro')\n",
    "print('Loss difference: %f' % np.abs(loss_naive - loss_vectorized))\n",
    "print('Gradient difference: %f' % grad_difference)"
   ]
  },
  {
   "cell_type": "code",
   "execution_count": 14,
   "metadata": {
    "tags": [
     "code"
    ]
   },
   "outputs": [
    {
     "name": "stdout",
     "output_type": "stream",
     "text": [
      "iteration 0 / 2000: loss 390.038952\n",
      "iteration 100 / 2000: loss 235.501421\n",
      "iteration 200 / 2000: loss 143.040923\n",
      "iteration 300 / 2000: loss 87.107799\n",
      "iteration 400 / 2000: loss 53.646264\n",
      "iteration 500 / 2000: loss 33.150589\n",
      "iteration 600 / 2000: loss 20.912508\n",
      "iteration 700 / 2000: loss 13.382087\n",
      "iteration 800 / 2000: loss 8.893539\n",
      "iteration 900 / 2000: loss 6.219936\n",
      "iteration 1000 / 2000: loss 4.437540\n",
      "iteration 1100 / 2000: loss 3.542670\n",
      "iteration 1200 / 2000: loss 2.912026\n",
      "iteration 1300 / 2000: loss 2.597077\n",
      "iteration 1400 / 2000: loss 2.397245\n",
      "iteration 1500 / 2000: loss 2.310112\n",
      "iteration 1600 / 2000: loss 2.167449\n",
      "iteration 1700 / 2000: loss 2.080109\n",
      "iteration 1800 / 2000: loss 2.024004\n",
      "iteration 1900 / 2000: loss 2.004924\n",
      "iteration 0 / 2000: loss 765.573158\n",
      "iteration 100 / 2000: loss 280.980109\n",
      "iteration 200 / 2000: loss 104.174413\n",
      "iteration 300 / 2000: loss 39.516670\n",
      "iteration 400 / 2000: loss 15.708767\n",
      "iteration 500 / 2000: loss 7.094206\n",
      "iteration 600 / 2000: loss 3.922059\n",
      "iteration 700 / 2000: loss 2.782922\n",
      "iteration 800 / 2000: loss 2.335139\n",
      "iteration 900 / 2000: loss 2.172598\n",
      "iteration 1000 / 2000: loss 2.112840\n",
      "iteration 1100 / 2000: loss 2.068439\n",
      "iteration 1200 / 2000: loss 2.110275\n",
      "iteration 1300 / 2000: loss 2.154856\n",
      "iteration 1400 / 2000: loss 2.067942\n",
      "iteration 1500 / 2000: loss 2.081792\n",
      "iteration 1600 / 2000: loss 2.133194\n",
      "iteration 1700 / 2000: loss 2.042956\n",
      "iteration 1800 / 2000: loss 2.074238\n",
      "iteration 1900 / 2000: loss 2.100158\n",
      "iteration 0 / 2000: loss 386.895300\n",
      "iteration 100 / 2000: loss 32.511307\n",
      "iteration 200 / 2000: loss 4.506161\n",
      "iteration 300 / 2000: loss 2.209086\n",
      "iteration 400 / 2000: loss 2.047791\n",
      "iteration 500 / 2000: loss 1.985142\n",
      "iteration 600 / 2000: loss 1.972503\n",
      "iteration 700 / 2000: loss 2.005665\n",
      "iteration 800 / 2000: loss 2.031698\n",
      "iteration 900 / 2000: loss 1.995050\n",
      "iteration 1000 / 2000: loss 2.022661\n",
      "iteration 1100 / 2000: loss 1.965946\n",
      "iteration 1200 / 2000: loss 2.065199\n",
      "iteration 1300 / 2000: loss 2.005409\n",
      "iteration 1400 / 2000: loss 2.011505\n",
      "iteration 1500 / 2000: loss 2.090587\n",
      "iteration 1600 / 2000: loss 1.998681\n",
      "iteration 1700 / 2000: loss 2.037053\n",
      "iteration 1800 / 2000: loss 1.985790\n",
      "iteration 1900 / 2000: loss 2.073184\n",
      "iteration 0 / 2000: loss 781.289075\n",
      "iteration 100 / 2000: loss 6.922950\n",
      "iteration 200 / 2000: loss 2.128421\n",
      "iteration 300 / 2000: loss 2.045209\n",
      "iteration 400 / 2000: loss 2.082845\n",
      "iteration 500 / 2000: loss 2.094288\n",
      "iteration 600 / 2000: loss 2.092136\n",
      "iteration 700 / 2000: loss 2.111492\n",
      "iteration 800 / 2000: loss 2.106596\n",
      "iteration 900 / 2000: loss 2.152104\n",
      "iteration 1000 / 2000: loss 2.041158\n",
      "iteration 1100 / 2000: loss 2.147094\n",
      "iteration 1200 / 2000: loss 2.083720\n",
      "iteration 1300 / 2000: loss 2.128754\n",
      "iteration 1400 / 2000: loss 2.099494\n",
      "iteration 1500 / 2000: loss 2.111240\n",
      "iteration 1600 / 2000: loss 2.061673\n",
      "iteration 1700 / 2000: loss 2.114383\n",
      "iteration 1800 / 2000: loss 2.102827\n",
      "iteration 1900 / 2000: loss 2.093710\n",
      "lr 1.000000e-07 reg 2.500000e+04 train accuracy: 0.350939 val accuracy: 0.364000\n",
      "lr 1.000000e-07 reg 5.000000e+04 train accuracy: 0.330163 val accuracy: 0.340000\n",
      "lr 5.000000e-07 reg 2.500000e+04 train accuracy: 0.346857 val accuracy: 0.355000\n",
      "lr 5.000000e-07 reg 5.000000e+04 train accuracy: 0.334082 val accuracy: 0.346000\n",
      "best validation accuracy achieved during cross-validation: 0.364000\n"
     ]
    }
   ],
   "source": [
    "# Use the validation set to tune hyperparameters (regularization strength and\n",
    "# learning rate). You should experiment with different ranges for the learning\n",
    "# rates and regularization strengths; if you are careful you should be able to\n",
    "# get a classification accuracy of over 0.35 on the validation set.\n",
    "from cs231n.classifiers import Softmax\n",
    "results = {}\n",
    "best_val = -1\n",
    "best_softmax = None\n",
    "learning_rates = [1e-7, 5e-7]\n",
    "regularization_strengths = [2.5e4, 5e4]\n",
    "\n",
    "################################################################################\n",
    "# TODO:                                                                        #\n",
    "# Use the validation set to set the learning rate and regularization strength. #\n",
    "# This should be identical to the validation that you did for the SVM; save    #\n",
    "# the best trained softmax classifer in best_softmax.                          #\n",
    "################################################################################\n",
    "# *****START OF YOUR CODE (DO NOT DELETE/MODIFY THIS LINE)*****\n",
    "\n",
    "for lr in learning_rates:\n",
    "    for reg in regularization_strengths:\n",
    "        smx = Softmax()\n",
    "        smx.train(X_train, y_train, learning_rate=lr, reg=reg, num_iters=2000, verbose=True)\n",
    "        y_val_pred = smx.predict(X_val)\n",
    "        y_train_pred = smx.predict(X_train)\n",
    "        train_accuracy = np.mean(y_train == y_train_pred)\n",
    "        val_accuracy = np.mean(y_val == y_val_pred)\n",
    "        results[(lr, reg)] = (train_accuracy, val_accuracy)\n",
    "        if val_accuracy > best_val:\n",
    "            best_val = val_accuracy\n",
    "            best_softmax = smx\n",
    "\n",
    "# *****END OF YOUR CODE (DO NOT DELETE/MODIFY THIS LINE)*****\n",
    "    \n",
    "# Print out results.\n",
    "for lr, reg in sorted(results):\n",
    "    train_accuracy, val_accuracy = results[(lr, reg)]\n",
    "    print('lr %e reg %e train accuracy: %f val accuracy: %f' % (\n",
    "                lr, reg, train_accuracy, val_accuracy))\n",
    "    \n",
    "print('best validation accuracy achieved during cross-validation: %f' % best_val)"
   ]
  },
  {
   "cell_type": "code",
   "execution_count": 15,
   "metadata": {},
   "outputs": [
    {
     "name": "stdout",
     "output_type": "stream",
     "text": [
      "softmax on raw pixels final test set accuracy: 0.356000\n"
     ]
    }
   ],
   "source": [
    "# evaluate on test set\n",
    "# Evaluate the best softmax on test set\n",
    "y_test_pred = best_softmax.predict(X_test)\n",
    "test_accuracy = np.mean(y_test == y_test_pred)\n",
    "print('softmax on raw pixels final test set accuracy: %f' % (test_accuracy, ))"
   ]
  },
  {
   "cell_type": "markdown",
   "metadata": {
    "tags": [
     "pdf-inline"
    ]
   },
   "source": [
    "**Inline Question 2** - *True or False*\n",
    "\n",
    "Suppose the overall training loss is defined as the sum of the per-datapoint loss over all training examples. It is possible to add a new datapoint to a training set that would leave the SVM loss unchanged, but this is not the case with the Softmax classifier loss.\n",
    "\n",
    "$\\color{blue}{\\textit Your Answer:}$\n",
    "yes\n",
    "\n",
    "$\\color{blue}{\\textit Your Explanation:}$\n",
    "SVM loss will keep unchanged if the new datapoint is right classified, but softmax classifier always want the loss to keep going down continuously.\n"
   ]
  },
  {
   "cell_type": "code",
   "execution_count": 16,
   "metadata": {},
   "outputs": [
    {
     "data": {
      "image/png": "[encoded data removed]",
      "text/plain": [
       "<Figure size 432x288 with 10 Axes>"
      ]
     },
     "metadata": {
      "needs_background": "light"
     },
     "output_type": "display_data"
    }
   ],
   "source": [
    "# Visualize the learned weights for each class\n",
    "w = best_softmax.W[:-1,:] # strip out the bias\n",
    "w = w.reshape(32, 32, 3, 10)\n",
    "\n",
    "w_min, w_max = np.min(w), np.max(w)\n",
    "\n",
    "classes = ['plane', 'car', 'bird', 'cat', 'deer', 'dog', 'frog', 'horse', 'ship', 'truck']\n",
    "for i in range(10):\n",
    "    plt.subplot(2, 5, i + 1)\n",
    "    \n",
    "    # Rescale the weights to be between 0 and 255\n",
    "    wimg = 255.0 * (w[:, :, :, i].squeeze() - w_min) / (w_max - w_min)\n",
    "    plt.imshow(wimg.astype('uint8'))\n",
    "    plt.axis('off')\n",
    "    plt.title(classes[i])"
   ]
  }
 ],
 "metadata": {
  "kernelspec": {
   "display_name": "Python 3",
   "language": "python",
   "name": "python3"
  },
  "language_info": {
   "codemirror_mode": {
    "name": "ipython",
    "version": 3
   },
   "file_extension": ".py",
   "mimetype": "text/x-python",
   "name": "python",
   "nbconvert_exporter": "python",
   "pygments_lexer": "ipython3",
   "version": "3.7.3"
  }
 },
 "nbformat": 4,
 "nbformat_minor": 2
}
